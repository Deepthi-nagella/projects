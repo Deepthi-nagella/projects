{
  "nbformat": 4,
  "nbformat_minor": 0,
  "metadata": {
    "colab": {
      "provenance": []
    },
    "kernelspec": {
      "name": "python3",
      "display_name": "Python 3"
    },
    "language_info": {
      "name": "python"
    }
  },
  "cells": [
    {
      "cell_type": "code",
      "execution_count": null,
      "metadata": {
        "id": "sEET_oaPFd54"
      },
      "outputs": [],
      "source": [
        "import pandas as pd #usefull for loading dataset\n",
        "import numpy as np #nupy lib is used for array manipulations"
      ]
    },
    {
      "cell_type": "code",
      "source": [
        "from google.colab import files\n",
        "uploaded = files.upload()"
      ],
      "metadata": {
        "colab": {
          "base_uri": "https://localhost:8080/",
          "height": 73
        },
        "id": "CQlMFHQqF_95",
        "outputId": "2f8f1708-ddff-4784-f6b5-51331dde1460"
      },
      "execution_count": null,
      "outputs": [
        {
          "output_type": "display_data",
          "data": {
            "text/plain": [
              "<IPython.core.display.HTML object>"
            ],
            "text/html": [
              "\n",
              "     <input type=\"file\" id=\"files-426db02b-527e-4ddc-9571-fdfc00644609\" name=\"files[]\" multiple disabled\n",
              "        style=\"border:none\" />\n",
              "     <output id=\"result-426db02b-527e-4ddc-9571-fdfc00644609\">\n",
              "      Upload widget is only available when the cell has been executed in the\n",
              "      current browser session. Please rerun this cell to enable.\n",
              "      </output>\n",
              "      <script>// Copyright 2017 Google LLC\n",
              "//\n",
              "// Licensed under the Apache License, Version 2.0 (the \"License\");\n",
              "// you may not use this file except in compliance with the License.\n",
              "// You may obtain a copy of the License at\n",
              "//\n",
              "//      http://www.apache.org/licenses/LICENSE-2.0\n",
              "//\n",
              "// Unless required by applicable law or agreed to in writing, software\n",
              "// distributed under the License is distributed on an \"AS IS\" BASIS,\n",
              "// WITHOUT WARRANTIES OR CONDITIONS OF ANY KIND, either express or implied.\n",
              "// See the License for the specific language governing permissions and\n",
              "// limitations under the License.\n",
              "\n",
              "/**\n",
              " * @fileoverview Helpers for google.colab Python module.\n",
              " */\n",
              "(function(scope) {\n",
              "function span(text, styleAttributes = {}) {\n",
              "  const element = document.createElement('span');\n",
              "  element.textContent = text;\n",
              "  for (const key of Object.keys(styleAttributes)) {\n",
              "    element.style[key] = styleAttributes[key];\n",
              "  }\n",
              "  return element;\n",
              "}\n",
              "\n",
              "// Max number of bytes which will be uploaded at a time.\n",
              "const MAX_PAYLOAD_SIZE = 100 * 1024;\n",
              "\n",
              "function _uploadFiles(inputId, outputId) {\n",
              "  const steps = uploadFilesStep(inputId, outputId);\n",
              "  const outputElement = document.getElementById(outputId);\n",
              "  // Cache steps on the outputElement to make it available for the next call\n",
              "  // to uploadFilesContinue from Python.\n",
              "  outputElement.steps = steps;\n",
              "\n",
              "  return _uploadFilesContinue(outputId);\n",
              "}\n",
              "\n",
              "// This is roughly an async generator (not supported in the browser yet),\n",
              "// where there are multiple asynchronous steps and the Python side is going\n",
              "// to poll for completion of each step.\n",
              "// This uses a Promise to block the python side on completion of each step,\n",
              "// then passes the result of the previous step as the input to the next step.\n",
              "function _uploadFilesContinue(outputId) {\n",
              "  const outputElement = document.getElementById(outputId);\n",
              "  const steps = outputElement.steps;\n",
              "\n",
              "  const next = steps.next(outputElement.lastPromiseValue);\n",
              "  return Promise.resolve(next.value.promise).then((value) => {\n",
              "    // Cache the last promise value to make it available to the next\n",
              "    // step of the generator.\n",
              "    outputElement.lastPromiseValue = value;\n",
              "    return next.value.response;\n",
              "  });\n",
              "}\n",
              "\n",
              "/**\n",
              " * Generator function which is called between each async step of the upload\n",
              " * process.\n",
              " * @param {string} inputId Element ID of the input file picker element.\n",
              " * @param {string} outputId Element ID of the output display.\n",
              " * @return {!Iterable<!Object>} Iterable of next steps.\n",
              " */\n",
              "function* uploadFilesStep(inputId, outputId) {\n",
              "  const inputElement = document.getElementById(inputId);\n",
              "  inputElement.disabled = false;\n",
              "\n",
              "  const outputElement = document.getElementById(outputId);\n",
              "  outputElement.innerHTML = '';\n",
              "\n",
              "  const pickedPromise = new Promise((resolve) => {\n",
              "    inputElement.addEventListener('change', (e) => {\n",
              "      resolve(e.target.files);\n",
              "    });\n",
              "  });\n",
              "\n",
              "  const cancel = document.createElement('button');\n",
              "  inputElement.parentElement.appendChild(cancel);\n",
              "  cancel.textContent = 'Cancel upload';\n",
              "  const cancelPromise = new Promise((resolve) => {\n",
              "    cancel.onclick = () => {\n",
              "      resolve(null);\n",
              "    };\n",
              "  });\n",
              "\n",
              "  // Wait for the user to pick the files.\n",
              "  const files = yield {\n",
              "    promise: Promise.race([pickedPromise, cancelPromise]),\n",
              "    response: {\n",
              "      action: 'starting',\n",
              "    }\n",
              "  };\n",
              "\n",
              "  cancel.remove();\n",
              "\n",
              "  // Disable the input element since further picks are not allowed.\n",
              "  inputElement.disabled = true;\n",
              "\n",
              "  if (!files) {\n",
              "    return {\n",
              "      response: {\n",
              "        action: 'complete',\n",
              "      }\n",
              "    };\n",
              "  }\n",
              "\n",
              "  for (const file of files) {\n",
              "    const li = document.createElement('li');\n",
              "    li.append(span(file.name, {fontWeight: 'bold'}));\n",
              "    li.append(span(\n",
              "        `(${file.type || 'n/a'}) - ${file.size} bytes, ` +\n",
              "        `last modified: ${\n",
              "            file.lastModifiedDate ? file.lastModifiedDate.toLocaleDateString() :\n",
              "                                    'n/a'} - `));\n",
              "    const percent = span('0% done');\n",
              "    li.appendChild(percent);\n",
              "\n",
              "    outputElement.appendChild(li);\n",
              "\n",
              "    const fileDataPromise = new Promise((resolve) => {\n",
              "      const reader = new FileReader();\n",
              "      reader.onload = (e) => {\n",
              "        resolve(e.target.result);\n",
              "      };\n",
              "      reader.readAsArrayBuffer(file);\n",
              "    });\n",
              "    // Wait for the data to be ready.\n",
              "    let fileData = yield {\n",
              "      promise: fileDataPromise,\n",
              "      response: {\n",
              "        action: 'continue',\n",
              "      }\n",
              "    };\n",
              "\n",
              "    // Use a chunked sending to avoid message size limits. See b/62115660.\n",
              "    let position = 0;\n",
              "    do {\n",
              "      const length = Math.min(fileData.byteLength - position, MAX_PAYLOAD_SIZE);\n",
              "      const chunk = new Uint8Array(fileData, position, length);\n",
              "      position += length;\n",
              "\n",
              "      const base64 = btoa(String.fromCharCode.apply(null, chunk));\n",
              "      yield {\n",
              "        response: {\n",
              "          action: 'append',\n",
              "          file: file.name,\n",
              "          data: base64,\n",
              "        },\n",
              "      };\n",
              "\n",
              "      let percentDone = fileData.byteLength === 0 ?\n",
              "          100 :\n",
              "          Math.round((position / fileData.byteLength) * 100);\n",
              "      percent.textContent = `${percentDone}% done`;\n",
              "\n",
              "    } while (position < fileData.byteLength);\n",
              "  }\n",
              "\n",
              "  // All done.\n",
              "  yield {\n",
              "    response: {\n",
              "      action: 'complete',\n",
              "    }\n",
              "  };\n",
              "}\n",
              "\n",
              "scope.google = scope.google || {};\n",
              "scope.google.colab = scope.google.colab || {};\n",
              "scope.google.colab._files = {\n",
              "  _uploadFiles,\n",
              "  _uploadFilesContinue,\n",
              "};\n",
              "})(self);\n",
              "</script> "
            ]
          },
          "metadata": {}
        },
        {
          "output_type": "stream",
          "name": "stdout",
          "text": [
            "Saving DigitalAd_dataset.csv to DigitalAd_dataset.csv\n"
          ]
        }
      ]
    },
    {
      "cell_type": "markdown",
      "source": [
        "Load dataset-by using pandas we are loading .csv files into signle variable Called dataset![download.png](data:image/png;base64,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![download.png](data:image/png;base64,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))"
      ],
      "metadata": {
        "id": "fyFiymnAH5Wl"
      }
    },
    {
      "cell_type": "code",
      "source": [
        "dataset = pd.read_csv('DigitalAd_dataset.csv')"
      ],
      "metadata": {
        "id": "55syLByLH4o8"
      },
      "execution_count": null,
      "outputs": []
    },
    {
      "cell_type": "markdown",
      "source": [
        "Summarize Dataset-gettig information of data set"
      ],
      "metadata": {
        "id": "kp2s2XEyIoEA"
      }
    },
    {
      "cell_type": "code",
      "source": [
        "print(dataset.shape)\n",
        "print(dataset.head(5))"
      ],
      "metadata": {
        "colab": {
          "base_uri": "https://localhost:8080/"
        },
        "id": "qtu6z1aVIs4U",
        "outputId": "69a45016-a636-42e0-a709-ecc0d58030dc"
      },
      "execution_count": null,
      "outputs": [
        {
          "output_type": "stream",
          "name": "stdout",
          "text": [
            "(400, 3)\n",
            "   Age  Salary  Status\n",
            "0   18   82000       0\n",
            "1   29   80000       0\n",
            "2   47   25000       1\n",
            "3   45   26000       1\n",
            "4   46   28000       1\n"
          ]
        }
      ]
    },
    {
      "cell_type": "markdown",
      "source": [
        "Segregate dataset into x(input/independendent Variable) and y(dependent Variable)"
      ],
      "metadata": {
        "id": "j_1S9UM2I-TZ"
      }
    },
    {
      "cell_type": "code",
      "source": [
        "x = dataset.iloc[:, :-1].values\n",
        "x"
      ],
      "metadata": {
        "colab": {
          "base_uri": "https://localhost:8080/"
        },
        "id": "sHtX39_JJKh7",
        "outputId": "3d7e8d7b-22bc-4613-fb47-75234339ccd7"
      },
      "execution_count": null,
      "outputs": [
        {
          "output_type": "execute_result",
          "data": {
            "text/plain": [
              "array([[    18,  82000],\n",
              "       [    29,  80000],\n",
              "       [    47,  25000],\n",
              "       [    45,  26000],\n",
              "       [    46,  28000],\n",
              "       [    48,  29000],\n",
              "       [    45,  22000],\n",
              "       [    47,  49000],\n",
              "       [    48,  41000],\n",
              "       [    45,  22000],\n",
              "       [    46,  23000],\n",
              "       [    47,  20000],\n",
              "       [    49,  28000],\n",
              "       [    47,  30000],\n",
              "       [    29,  43000],\n",
              "       [    31,  18000],\n",
              "       [    31,  74000],\n",
              "       [    27, 137000],\n",
              "       [    21,  16000],\n",
              "       [    28,  44000],\n",
              "       [    27,  90000],\n",
              "       [    35,  27000],\n",
              "       [    33,  28000],\n",
              "       [    30,  49000],\n",
              "       [    26,  72000],\n",
              "       [    27,  31000],\n",
              "       [    27,  17000],\n",
              "       [    33,  51000],\n",
              "       [    35, 108000],\n",
              "       [    30,  15000],\n",
              "       [    28,  84000],\n",
              "       [    23,  20000],\n",
              "       [    25,  79000],\n",
              "       [    27,  54000],\n",
              "       [    30, 135000],\n",
              "       [    31,  89000],\n",
              "       [    24,  32000],\n",
              "       [    18,  44000],\n",
              "       [    29,  83000],\n",
              "       [    35,  23000],\n",
              "       [    27,  58000],\n",
              "       [    24,  55000],\n",
              "       [    23,  48000],\n",
              "       [    28,  79000],\n",
              "       [    22,  18000],\n",
              "       [    32, 117000],\n",
              "       [    27,  20000],\n",
              "       [    25,  87000],\n",
              "       [    23,  66000],\n",
              "       [    32, 120000],\n",
              "       [    59,  83000],\n",
              "       [    24,  58000],\n",
              "       [    24,  19000],\n",
              "       [    23,  82000],\n",
              "       [    22,  63000],\n",
              "       [    31,  68000],\n",
              "       [    25,  80000],\n",
              "       [    24,  27000],\n",
              "       [    20,  23000],\n",
              "       [    33, 113000],\n",
              "       [    32,  18000],\n",
              "       [    34, 112000],\n",
              "       [    18,  52000],\n",
              "       [    22,  27000],\n",
              "       [    28,  87000],\n",
              "       [    26,  17000],\n",
              "       [    30,  80000],\n",
              "       [    39,  42000],\n",
              "       [    20,  49000],\n",
              "       [    35,  88000],\n",
              "       [    30,  62000],\n",
              "       [    31, 118000],\n",
              "       [    24,  55000],\n",
              "       [    28,  85000],\n",
              "       [    26,  81000],\n",
              "       [    35,  50000],\n",
              "       [    22,  81000],\n",
              "       [    30, 116000],\n",
              "       [    26,  15000],\n",
              "       [    29,  28000],\n",
              "       [    29,  83000],\n",
              "       [    35,  44000],\n",
              "       [    35,  25000],\n",
              "       [    28, 123000],\n",
              "       [    35,  73000],\n",
              "       [    28,  37000],\n",
              "       [    27,  88000],\n",
              "       [    28,  59000],\n",
              "       [    32,  86000],\n",
              "       [    33, 149000],\n",
              "       [    19,  21000],\n",
              "       [    21,  72000],\n",
              "       [    26,  35000],\n",
              "       [    27,  89000],\n",
              "       [    26,  86000],\n",
              "       [    38,  80000],\n",
              "       [    39,  71000],\n",
              "       [    37,  71000],\n",
              "       [    38,  61000],\n",
              "       [    37,  55000],\n",
              "       [    42,  80000],\n",
              "       [    40,  57000],\n",
              "       [    35,  75000],\n",
              "       [    36,  52000],\n",
              "       [    40,  59000],\n",
              "       [    41,  59000],\n",
              "       [    36,  75000],\n",
              "       [    37,  72000],\n",
              "       [    40,  75000],\n",
              "       [    35,  53000],\n",
              "       [    41,  51000],\n",
              "       [    39,  61000],\n",
              "       [    42,  65000],\n",
              "       [    26,  32000],\n",
              "       [    30,  17000],\n",
              "       [    26,  84000],\n",
              "       [    31,  58000],\n",
              "       [    33,  31000],\n",
              "       [    30,  87000],\n",
              "       [    21,  68000],\n",
              "       [    28,  55000],\n",
              "       [    23,  63000],\n",
              "       [    20,  82000],\n",
              "       [    30, 107000],\n",
              "       [    28,  59000],\n",
              "       [    19,  25000],\n",
              "       [    19,  85000],\n",
              "       [    18,  68000],\n",
              "       [    35,  59000],\n",
              "       [    30,  89000],\n",
              "       [    34,  25000],\n",
              "       [    24,  89000],\n",
              "       [    27,  96000],\n",
              "       [    41,  30000],\n",
              "       [    29,  61000],\n",
              "       [    20,  74000],\n",
              "       [    26,  15000],\n",
              "       [    41,  45000],\n",
              "       [    31,  76000],\n",
              "       [    36,  50000],\n",
              "       [    40,  47000],\n",
              "       [    31,  15000],\n",
              "       [    46,  59000],\n",
              "       [    29,  75000],\n",
              "       [    26,  30000],\n",
              "       [    32, 135000],\n",
              "       [    32, 100000],\n",
              "       [    25,  90000],\n",
              "       [    37,  33000],\n",
              "       [    35,  38000],\n",
              "       [    33,  69000],\n",
              "       [    18,  86000],\n",
              "       [    22,  55000],\n",
              "       [    35,  71000],\n",
              "       [    29, 148000],\n",
              "       [    29,  47000],\n",
              "       [    21,  88000],\n",
              "       [    34, 115000],\n",
              "       [    26, 118000],\n",
              "       [    34,  43000],\n",
              "       [    34,  72000],\n",
              "       [    23,  28000],\n",
              "       [    35,  47000],\n",
              "       [    25,  22000],\n",
              "       [    24,  23000],\n",
              "       [    31,  34000],\n",
              "       [    26,  16000],\n",
              "       [    31,  71000],\n",
              "       [    32, 117000],\n",
              "       [    33,  43000],\n",
              "       [    33,  60000],\n",
              "       [    31,  66000],\n",
              "       [    20,  82000],\n",
              "       [    33,  41000],\n",
              "       [    35,  72000],\n",
              "       [    28,  32000],\n",
              "       [    24,  84000],\n",
              "       [    19,  26000],\n",
              "       [    29,  43000],\n",
              "       [    19,  70000],\n",
              "       [    28,  89000],\n",
              "       [    34,  43000],\n",
              "       [    30,  79000],\n",
              "       [    20,  36000],\n",
              "       [    26,  80000],\n",
              "       [    35,  22000],\n",
              "       [    35,  39000],\n",
              "       [    49,  74000],\n",
              "       [    39, 134000],\n",
              "       [    41,  71000],\n",
              "       [    58, 101000],\n",
              "       [    47,  47000],\n",
              "       [    55, 130000],\n",
              "       [    52, 114000],\n",
              "       [    40, 142000],\n",
              "       [    46,  22000],\n",
              "       [    48,  96000],\n",
              "       [    52, 150000],\n",
              "       [    59,  42000],\n",
              "       [    35,  58000],\n",
              "       [    47,  43000],\n",
              "       [    60, 108000],\n",
              "       [    49,  65000],\n",
              "       [    40,  78000],\n",
              "       [    46,  96000],\n",
              "       [    59, 143000],\n",
              "       [    41,  80000],\n",
              "       [    35,  91000],\n",
              "       [    37, 144000],\n",
              "       [    60, 102000],\n",
              "       [    35,  60000],\n",
              "       [    37,  53000],\n",
              "       [    36, 126000],\n",
              "       [    56, 133000],\n",
              "       [    40,  72000],\n",
              "       [    42,  80000],\n",
              "       [    35, 147000],\n",
              "       [    39,  42000],\n",
              "       [    40, 107000],\n",
              "       [    49,  86000],\n",
              "       [    38, 112000],\n",
              "       [    46,  79000],\n",
              "       [    40,  57000],\n",
              "       [    37,  80000],\n",
              "       [    46,  82000],\n",
              "       [    53, 143000],\n",
              "       [    42, 149000],\n",
              "       [    38,  59000],\n",
              "       [    50,  88000],\n",
              "       [    56, 104000],\n",
              "       [    41,  72000],\n",
              "       [    51, 146000],\n",
              "       [    35,  50000],\n",
              "       [    57, 122000],\n",
              "       [    41,  52000],\n",
              "       [    35,  97000],\n",
              "       [    44,  39000],\n",
              "       [    37,  52000],\n",
              "       [    48, 134000],\n",
              "       [    37, 146000],\n",
              "       [    50,  44000],\n",
              "       [    52,  90000],\n",
              "       [    41,  72000],\n",
              "       [    40,  57000],\n",
              "       [    58,  95000],\n",
              "       [    45, 131000],\n",
              "       [    35,  77000],\n",
              "       [    36, 144000],\n",
              "       [    55, 125000],\n",
              "       [    35,  72000],\n",
              "       [    48,  90000],\n",
              "       [    42, 108000],\n",
              "       [    40,  75000],\n",
              "       [    37,  74000],\n",
              "       [    47, 144000],\n",
              "       [    40,  61000],\n",
              "       [    43, 133000],\n",
              "       [    59,  76000],\n",
              "       [    60,  42000],\n",
              "       [    39, 106000],\n",
              "       [    57,  26000],\n",
              "       [    57,  74000],\n",
              "       [    38,  71000],\n",
              "       [    49,  88000],\n",
              "       [    52,  38000],\n",
              "       [    50,  36000],\n",
              "       [    59,  88000],\n",
              "       [    35,  61000],\n",
              "       [    37,  70000],\n",
              "       [    52,  21000],\n",
              "       [    48, 141000],\n",
              "       [    37,  93000],\n",
              "       [    37,  62000],\n",
              "       [    48, 138000],\n",
              "       [    41,  79000],\n",
              "       [    37,  78000],\n",
              "       [    39, 134000],\n",
              "       [    49,  89000],\n",
              "       [    55,  39000],\n",
              "       [    37,  77000],\n",
              "       [    35,  57000],\n",
              "       [    36,  63000],\n",
              "       [    42,  73000],\n",
              "       [    43, 112000],\n",
              "       [    45,  79000],\n",
              "       [    46, 117000],\n",
              "       [    58,  38000],\n",
              "       [    48,  74000],\n",
              "       [    37, 137000],\n",
              "       [    37,  79000],\n",
              "       [    40,  60000],\n",
              "       [    42,  54000],\n",
              "       [    51, 134000],\n",
              "       [    47, 113000],\n",
              "       [    36, 125000],\n",
              "       [    38,  50000],\n",
              "       [    42,  70000],\n",
              "       [    39,  96000],\n",
              "       [    38,  50000],\n",
              "       [    49, 141000],\n",
              "       [    39,  79000],\n",
              "       [    39,  75000],\n",
              "       [    54, 104000],\n",
              "       [    35,  55000],\n",
              "       [    45,  32000],\n",
              "       [    36,  60000],\n",
              "       [    52, 138000],\n",
              "       [    53,  82000],\n",
              "       [    41,  52000],\n",
              "       [    48,  30000],\n",
              "       [    48, 131000],\n",
              "       [    41,  60000],\n",
              "       [    41,  72000],\n",
              "       [    42,  75000],\n",
              "       [    36, 118000],\n",
              "       [    47, 107000],\n",
              "       [    38,  51000],\n",
              "       [    48, 119000],\n",
              "       [    42,  65000],\n",
              "       [    40,  65000],\n",
              "       [    57,  60000],\n",
              "       [    36,  54000],\n",
              "       [    58, 144000],\n",
              "       [    35,  79000],\n",
              "       [    38,  55000],\n",
              "       [    39, 122000],\n",
              "       [    53, 104000],\n",
              "       [    35,  75000],\n",
              "       [    38,  65000],\n",
              "       [    47,  51000],\n",
              "       [    47, 105000],\n",
              "       [    41,  63000],\n",
              "       [    53,  72000],\n",
              "       [    54, 108000],\n",
              "       [    39,  77000],\n",
              "       [    38,  61000],\n",
              "       [    38, 113000],\n",
              "       [    37,  75000],\n",
              "       [    42,  90000],\n",
              "       [    37,  57000],\n",
              "       [    36,  99000],\n",
              "       [    60,  34000],\n",
              "       [    54,  70000],\n",
              "       [    41,  72000],\n",
              "       [    40,  71000],\n",
              "       [    42,  54000],\n",
              "       [    43, 129000],\n",
              "       [    53,  34000],\n",
              "       [    47,  50000],\n",
              "       [    42,  79000],\n",
              "       [    42, 104000],\n",
              "       [    59,  29000],\n",
              "       [    58,  47000],\n",
              "       [    46,  88000],\n",
              "       [    38,  71000],\n",
              "       [    54,  26000],\n",
              "       [    60,  46000],\n",
              "       [    60,  83000],\n",
              "       [    39,  73000],\n",
              "       [    59, 130000],\n",
              "       [    37,  80000],\n",
              "       [    46,  32000],\n",
              "       [    46,  74000],\n",
              "       [    42,  53000],\n",
              "       [    41,  87000],\n",
              "       [    58,  23000],\n",
              "       [    42,  64000],\n",
              "       [    48,  33000],\n",
              "       [    44, 139000],\n",
              "       [    49,  28000],\n",
              "       [    57,  33000],\n",
              "       [    56,  60000],\n",
              "       [    49,  39000],\n",
              "       [    39,  71000],\n",
              "       [    47,  34000],\n",
              "       [    48,  35000],\n",
              "       [    48,  33000],\n",
              "       [    47,  23000],\n",
              "       [    45,  45000],\n",
              "       [    60,  42000],\n",
              "       [    39,  59000],\n",
              "       [    46,  41000],\n",
              "       [    51,  23000],\n",
              "       [    50,  20000],\n",
              "       [    36,  33000],\n",
              "       [    49,  36000],\n",
              "       [    19,  19000],\n",
              "       [    35,  20000],\n",
              "       [    26,  43000],\n",
              "       [    27,  57000],\n",
              "       [    19,  76000],\n",
              "       [    27,  58000],\n",
              "       [    27,  84000],\n",
              "       [    32, 150000],\n",
              "       [    25,  33000],\n",
              "       [    35,  65000],\n",
              "       [    26,  80000],\n",
              "       [    26,  52000],\n",
              "       [    20,  86000],\n",
              "       [    32,  18000]])"
            ]
          },
          "metadata": {},
          "execution_count": 7
        }
      ]
    },
    {
      "cell_type": "code",
      "source": [
        "y = dataset.iloc[:, -1].values\n",
        "y"
      ],
      "metadata": {
        "colab": {
          "base_uri": "https://localhost:8080/"
        },
        "id": "veePRpv8JfU6",
        "outputId": "1d4f0c64-b4ec-4ad1-e15b-9b3ba4b0abcc"
      },
      "execution_count": null,
      "outputs": [
        {
          "output_type": "execute_result",
          "data": {
            "text/plain": [
              "array([0, 0, 1, 1, 1, 1, 1, 1, 1, 1, 1, 1, 1, 1, 0, 0, 0, 1, 0, 0, 0, 0,\n",
              "       0, 0, 0, 0, 0, 0, 0, 0, 0, 0, 0, 0, 1, 0, 0, 0, 0, 0, 0, 0, 0, 0,\n",
              "       0, 0, 0, 0, 0, 1, 0, 0, 0, 0, 0, 0, 0, 0, 0, 0, 0, 1, 0, 0, 0, 0,\n",
              "       0, 0, 0, 0, 0, 1, 0, 0, 0, 0, 0, 0, 0, 0, 0, 0, 0, 1, 0, 0, 0, 0,\n",
              "       0, 1, 0, 0, 0, 0, 0, 0, 0, 0, 0, 0, 0, 0, 0, 0, 0, 0, 0, 0, 0, 0,\n",
              "       0, 0, 0, 0, 0, 0, 0, 0, 0, 0, 0, 0, 0, 1, 0, 0, 0, 0, 0, 0, 0, 0,\n",
              "       1, 0, 0, 0, 0, 0, 0, 0, 0, 0, 0, 0, 0, 1, 1, 0, 0, 0, 0, 0, 0, 0,\n",
              "       1, 0, 0, 0, 0, 0, 0, 0, 0, 0, 0, 0, 0, 0, 1, 0, 0, 0, 0, 0, 0, 0,\n",
              "       0, 0, 0, 0, 0, 0, 0, 0, 0, 0, 0, 0, 1, 0, 1, 0, 1, 0, 1, 0, 1, 1,\n",
              "       0, 0, 0, 1, 0, 0, 0, 1, 0, 1, 1, 1, 0, 0, 1, 1, 0, 1, 1, 0, 1, 1,\n",
              "       0, 1, 0, 0, 0, 1, 1, 0, 1, 1, 0, 1, 0, 1, 0, 1, 0, 0, 1, 1, 0, 1,\n",
              "       0, 0, 1, 1, 0, 1, 1, 0, 1, 1, 0, 0, 1, 0, 0, 1, 1, 1, 1, 1, 0, 1,\n",
              "       1, 1, 1, 0, 1, 1, 0, 1, 0, 1, 0, 1, 1, 1, 1, 0, 0, 0, 1, 1, 0, 1,\n",
              "       1, 1, 1, 1, 0, 0, 0, 1, 1, 0, 0, 1, 0, 1, 0, 1, 1, 0, 1, 0, 1, 1,\n",
              "       0, 1, 1, 0, 0, 0, 1, 1, 0, 1, 0, 0, 1, 0, 1, 0, 0, 1, 1, 0, 0, 1,\n",
              "       1, 0, 1, 1, 0, 0, 1, 0, 1, 0, 1, 1, 1, 0, 1, 0, 1, 1, 1, 0, 1, 1,\n",
              "       1, 1, 0, 1, 1, 1, 0, 1, 0, 1, 0, 0, 1, 1, 0, 1, 1, 1, 1, 1, 1, 0,\n",
              "       1, 1, 1, 1, 1, 1, 0, 1, 1, 1, 0, 1, 0, 0, 0, 0, 0, 0, 0, 1, 0, 0,\n",
              "       0, 0, 0, 0])"
            ]
          },
          "metadata": {},
          "execution_count": 8
        }
      ]
    },
    {
      "cell_type": "markdown",
      "source": [
        "Splitting data set into Training and Test"
      ],
      "metadata": {
        "id": "0L_bKJvjJow8"
      }
    },
    {
      "cell_type": "code",
      "source": [
        "from sklearn.model_selection import train_test_split\n",
        "x_train, x_test, y_train, y_test= train_test_split(x, y, test_size=0.25, random_state=0)"
      ],
      "metadata": {
        "id": "ly7L7V73Js5u"
      },
      "execution_count": null,
      "outputs": []
    },
    {
      "cell_type": "markdown",
      "source": [
        "Feature scaling -Can be doe using standardization and normalization."
      ],
      "metadata": {
        "id": "SO4DNOf3KQHU"
      }
    },
    {
      "cell_type": "markdown",
      "source": [
        "We use\n",
        "Fit_Transform-fit method caluculates the mean and variance of *each* of the features present in our data.\n",
        "Transform method is used for transforming *all the features* using respective mean and variance.\n"
      ],
      "metadata": {
        "id": "UDUiwVInKZlZ"
      }
    },
    {
      "cell_type": "markdown",
      "source": [
        "We are using fit_tansform for x_train and transform for x_test . we are using different preprocessing techniques because We want our test data to be a completely new and a surprise set for our mode"
      ],
      "metadata": {
        "id": "UzVPamTrL6K0"
      }
    },
    {
      "cell_type": "code",
      "source": [
        "from sklearn.preprocessing import StandardScaler\n",
        "sc = StandardScaler()\n",
        "x_train = sc.fit_transform(x_train)\n",
        "x_test = sc.transform(x_test)"
      ],
      "metadata": {
        "id": "y0rD8--dKYl6"
      },
      "execution_count": null,
      "outputs": []
    },
    {
      "cell_type": "markdown",
      "source": [
        "Training"
      ],
      "metadata": {
        "id": "iY-LC6N4NteG"
      }
    },
    {
      "cell_type": "code",
      "source": [
        "from sklearn.linear_model import LogisticRegression\n",
        "model = LogisticRegression(random_state=0)\n",
        "model.fit(x_train,y_train)"
      ],
      "metadata": {
        "colab": {
          "base_uri": "https://localhost:8080/",
          "height": 74
        },
        "id": "iQENhgAYNwjV",
        "outputId": "774f0a4b-cb87-4189-bb4c-433e2dcbaeb6"
      },
      "execution_count": null,
      "outputs": [
        {
          "output_type": "execute_result",
          "data": {
            "text/plain": [
              "LogisticRegression(random_state=0)"
            ],
            "text/html": [
              "<style>#sk-container-id-1 {color: black;background-color: white;}#sk-container-id-1 pre{padding: 0;}#sk-container-id-1 div.sk-toggleable {background-color: white;}#sk-container-id-1 label.sk-toggleable__label {cursor: pointer;display: block;width: 100%;margin-bottom: 0;padding: 0.3em;box-sizing: border-box;text-align: center;}#sk-container-id-1 label.sk-toggleable__label-arrow:before {content: \"▸\";float: left;margin-right: 0.25em;color: #696969;}#sk-container-id-1 label.sk-toggleable__label-arrow:hover:before {color: black;}#sk-container-id-1 div.sk-estimator:hover label.sk-toggleable__label-arrow:before {color: black;}#sk-container-id-1 div.sk-toggleable__content {max-height: 0;max-width: 0;overflow: hidden;text-align: left;background-color: #f0f8ff;}#sk-container-id-1 div.sk-toggleable__content pre {margin: 0.2em;color: black;border-radius: 0.25em;background-color: #f0f8ff;}#sk-container-id-1 input.sk-toggleable__control:checked~div.sk-toggleable__content {max-height: 200px;max-width: 100%;overflow: auto;}#sk-container-id-1 input.sk-toggleable__control:checked~label.sk-toggleable__label-arrow:before {content: \"▾\";}#sk-container-id-1 div.sk-estimator input.sk-toggleable__control:checked~label.sk-toggleable__label {background-color: #d4ebff;}#sk-container-id-1 div.sk-label input.sk-toggleable__control:checked~label.sk-toggleable__label {background-color: #d4ebff;}#sk-container-id-1 input.sk-hidden--visually {border: 0;clip: rect(1px 1px 1px 1px);clip: rect(1px, 1px, 1px, 1px);height: 1px;margin: -1px;overflow: hidden;padding: 0;position: absolute;width: 1px;}#sk-container-id-1 div.sk-estimator {font-family: monospace;background-color: #f0f8ff;border: 1px dotted black;border-radius: 0.25em;box-sizing: border-box;margin-bottom: 0.5em;}#sk-container-id-1 div.sk-estimator:hover {background-color: #d4ebff;}#sk-container-id-1 div.sk-parallel-item::after {content: \"\";width: 100%;border-bottom: 1px solid gray;flex-grow: 1;}#sk-container-id-1 div.sk-label:hover label.sk-toggleable__label {background-color: #d4ebff;}#sk-container-id-1 div.sk-serial::before {content: \"\";position: absolute;border-left: 1px solid gray;box-sizing: border-box;top: 0;bottom: 0;left: 50%;z-index: 0;}#sk-container-id-1 div.sk-serial {display: flex;flex-direction: column;align-items: center;background-color: white;padding-right: 0.2em;padding-left: 0.2em;position: relative;}#sk-container-id-1 div.sk-item {position: relative;z-index: 1;}#sk-container-id-1 div.sk-parallel {display: flex;align-items: stretch;justify-content: center;background-color: white;position: relative;}#sk-container-id-1 div.sk-item::before, #sk-container-id-1 div.sk-parallel-item::before {content: \"\";position: absolute;border-left: 1px solid gray;box-sizing: border-box;top: 0;bottom: 0;left: 50%;z-index: -1;}#sk-container-id-1 div.sk-parallel-item {display: flex;flex-direction: column;z-index: 1;position: relative;background-color: white;}#sk-container-id-1 div.sk-parallel-item:first-child::after {align-self: flex-end;width: 50%;}#sk-container-id-1 div.sk-parallel-item:last-child::after {align-self: flex-start;width: 50%;}#sk-container-id-1 div.sk-parallel-item:only-child::after {width: 0;}#sk-container-id-1 div.sk-dashed-wrapped {border: 1px dashed gray;margin: 0 0.4em 0.5em 0.4em;box-sizing: border-box;padding-bottom: 0.4em;background-color: white;}#sk-container-id-1 div.sk-label label {font-family: monospace;font-weight: bold;display: inline-block;line-height: 1.2em;}#sk-container-id-1 div.sk-label-container {text-align: center;}#sk-container-id-1 div.sk-container {/* jupyter's `normalize.less` sets `[hidden] { display: none; }` but bootstrap.min.css set `[hidden] { display: none !important; }` so we also need the `!important` here to be able to override the default hidden behavior on the sphinx rendered scikit-learn.org. See: https://github.com/scikit-learn/scikit-learn/issues/21755 */display: inline-block !important;position: relative;}#sk-container-id-1 div.sk-text-repr-fallback {display: none;}</style><div id=\"sk-container-id-1\" class=\"sk-top-container\"><div class=\"sk-text-repr-fallback\"><pre>LogisticRegression(random_state=0)</pre><b>In a Jupyter environment, please rerun this cell to show the HTML representation or trust the notebook. <br />On GitHub, the HTML representation is unable to render, please try loading this page with nbviewer.org.</b></div><div class=\"sk-container\" hidden><div class=\"sk-item\"><div class=\"sk-estimator sk-toggleable\"><input class=\"sk-toggleable__control sk-hidden--visually\" id=\"sk-estimator-id-1\" type=\"checkbox\" checked><label for=\"sk-estimator-id-1\" class=\"sk-toggleable__label sk-toggleable__label-arrow\">LogisticRegression</label><div class=\"sk-toggleable__content\"><pre>LogisticRegression(random_state=0)</pre></div></div></div></div></div>"
            ]
          },
          "metadata": {},
          "execution_count": 16
        }
      ]
    },
    {
      "cell_type": "markdown",
      "source": [
        "Predicting whether new customer with age and salary will buy or not"
      ],
      "metadata": {
        "id": "cJ1ZsK-XObyz"
      }
    },
    {
      "cell_type": "code",
      "source": [
        "age=int(input(\"enter the new customer age:\"))\n",
        "sal=int(input(\"enter new customer salary\"))\n",
        "newcust=[[age,sal]]\n",
        "result=model.predict(sc.transform(newcust))\n",
        "print(result)\n",
        "if result==1:\n",
        "  print(\"customer's gonna buy\")\n",
        "else:\n",
        "  print(\"Nah Nah not gonna buy\")"
      ],
      "metadata": {
        "colab": {
          "base_uri": "https://localhost:8080/"
        },
        "id": "-gPU0uYwOnU1",
        "outputId": "de9ebfa4-c657-4e95-dea3-8bd375043368"
      },
      "execution_count": null,
      "outputs": [
        {
          "output_type": "stream",
          "name": "stdout",
          "text": [
            "enter the new customer age:50\n",
            "enter new customer salary45000\n",
            "[1]\n",
            "customer's gonna buy\n"
          ]
        }
      ]
    },
    {
      "cell_type": "markdown",
      "source": [
        "Prediction for the test data"
      ],
      "metadata": {
        "id": "an_6EfHBPUmx"
      }
    },
    {
      "cell_type": "code",
      "source": [
        "y_pred = model.predict(x_test)\n",
        "print(np.concatenate((y_pred.reshape(len(y_pred),1), y_test.reshape(len(y_test),1)),1))"
      ],
      "metadata": {
        "colab": {
          "base_uri": "https://localhost:8080/"
        },
        "id": "67ZWwsKiPTFv",
        "outputId": "6f11205e-12c8-48ad-f9e2-54b9dea8d081"
      },
      "execution_count": null,
      "outputs": [
        {
          "output_type": "stream",
          "name": "stdout",
          "text": [
            "[[0 1]\n",
            " [0 1]\n",
            " [1 1]\n",
            " [1 1]\n",
            " [0 0]\n",
            " [0 0]\n",
            " [0 0]\n",
            " [1 1]\n",
            " [0 0]\n",
            " [0 0]\n",
            " [0 0]\n",
            " [0 0]\n",
            " [0 0]\n",
            " [0 1]\n",
            " [0 1]\n",
            " [0 0]\n",
            " [1 1]\n",
            " [0 0]\n",
            " [0 0]\n",
            " [0 0]\n",
            " [0 0]\n",
            " [0 1]\n",
            " [0 0]\n",
            " [0 1]\n",
            " [0 0]\n",
            " [0 0]\n",
            " [0 0]\n",
            " [0 0]\n",
            " [1 1]\n",
            " [0 0]\n",
            " [0 0]\n",
            " [0 0]\n",
            " [0 0]\n",
            " [1 1]\n",
            " [0 0]\n",
            " [0 0]\n",
            " [0 0]\n",
            " [0 0]\n",
            " [0 0]\n",
            " [0 0]\n",
            " [0 0]\n",
            " [1 1]\n",
            " [0 1]\n",
            " [0 0]\n",
            " [0 1]\n",
            " [0 0]\n",
            " [0 1]\n",
            " [0 0]\n",
            " [0 0]\n",
            " [1 1]\n",
            " [1 1]\n",
            " [0 0]\n",
            " [1 1]\n",
            " [0 0]\n",
            " [0 0]\n",
            " [0 0]\n",
            " [0 0]\n",
            " [0 1]\n",
            " [0 0]\n",
            " [0 0]\n",
            " [0 0]\n",
            " [0 0]\n",
            " [0 1]\n",
            " [0 0]\n",
            " [0 0]\n",
            " [1 1]\n",
            " [0 1]\n",
            " [0 1]\n",
            " [0 1]\n",
            " [1 1]\n",
            " [0 1]\n",
            " [1 1]\n",
            " [0 0]\n",
            " [0 0]\n",
            " [0 0]\n",
            " [0 0]\n",
            " [0 0]\n",
            " [0 1]\n",
            " [0 1]\n",
            " [0 1]\n",
            " [1 1]\n",
            " [0 0]\n",
            " [0 0]\n",
            " [0 0]\n",
            " [0 0]\n",
            " [1 1]\n",
            " [0 0]\n",
            " [0 0]\n",
            " [0 0]\n",
            " [1 1]\n",
            " [0 0]\n",
            " [0 0]\n",
            " [0 0]\n",
            " [0 1]\n",
            " [1 1]\n",
            " [0 1]\n",
            " [0 0]\n",
            " [0 0]\n",
            " [1 1]\n",
            " [1 1]]\n"
          ]
        }
      ]
    },
    {
      "cell_type": "markdown",
      "source": [
        "Accuracy from confusion matrix\n",
        "Confusion matrix\n",
        "True positive : If the real value is 1 and model also predicts 1\n",
        "True negative: If the real value is 1 and model predicts 0\n",
        "\n"
      ],
      "metadata": {
        "id": "usOelF69QdRe"
      }
    },
    {
      "cell_type": "markdown",
      "source": [
        "Accuracy=(TP+TN)/(TP+TN+FP+FN)"
      ],
      "metadata": {
        "id": "VH9pn6cudLRU"
      }
    },
    {
      "cell_type": "code",
      "source": [
        "from sklearn.metrics import confusion_matrix, accuracy_score\n",
        "cm= confusion_matrix(y_test,y_pred)\n",
        "print(\"confusion mat\")\n",
        "print(cm)\n",
        "print(\"accuracy of the model :{0}%\".format(accuracy_score(y_test, y_pred)*100))"
      ],
      "metadata": {
        "colab": {
          "base_uri": "https://localhost:8080/"
        },
        "id": "CfzaxlU1QoHf",
        "outputId": "1deef3ec-4341-48b7-8dfc-f2a983fba176"
      },
      "execution_count": null,
      "outputs": [
        {
          "output_type": "stream",
          "name": "stdout",
          "text": [
            "confusion mat\n",
            "[[61  0]\n",
            " [20 19]]\n",
            "accuracy of the model :80.0%\n"
          ]
        }
      ]
    }
  ]
}